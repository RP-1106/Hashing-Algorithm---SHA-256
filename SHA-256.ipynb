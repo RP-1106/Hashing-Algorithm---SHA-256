{
 "cells": [
  {
   "cell_type": "markdown",
   "id": "afd36cca",
   "metadata": {},
   "source": [
    "### All the functions"
   ]
  },
  {
   "cell_type": "code",
   "execution_count": 1,
   "id": "72d9895c",
   "metadata": {},
   "outputs": [],
   "source": [
    "def right_rotate(x, n):\n",
    "    return x[len(x)-n:] + x[0:len(x)-n]\n",
    "\n",
    "def right_shift(x, n):\n",
    "    x = \"0\"*n + x\n",
    "    x = x[:-n]\n",
    "    return x"
   ]
  },
  {
   "cell_type": "code",
   "execution_count": 2,
   "id": "4463766c",
   "metadata": {},
   "outputs": [],
   "source": [
    "def _rev_(string):\n",
    "    return reversed(string)"
   ]
  },
  {
   "cell_type": "code",
   "execution_count": 3,
   "id": "97f67f0e",
   "metadata": {},
   "outputs": [],
   "source": [
    "def __add__ (str1, str2, str3=\"0\"*32, str4=\"0\"*32, str5=\"0\"*32):\n",
    "    result = \"\"\n",
    "    carry = 0\n",
    "    for bit1, bit2, bit3, bit4, bit5 in zip(_rev_(str1),_rev_(str2), _rev_(str3),_rev_(str4), _rev_(str5)):\n",
    "        bit1_int,bit2_int,bit3_int,bit4_int,bit5_int = int(bit1),int(bit2),int(bit3),int(bit4),int(bit5)\n",
    "        sum_bits = bit1_int + bit2_int + bit3_int + bit4_int + bit5_int + carry\n",
    "\n",
    "        result_bit = sum_bits % 2\n",
    "        carry = sum_bits // 2\n",
    "        result = str(result_bit) + result\n",
    "    if carry:\n",
    "        result = \"1\" + result\n",
    "    return result"
   ]
  },
  {
   "cell_type": "code",
   "execution_count": 4,
   "id": "5428e80c",
   "metadata": {},
   "outputs": [],
   "source": [
    "def __xor__(str1, str2, str3=\"0\"*32):\n",
    "    result = \"\"\n",
    "    for bit1, bit2, bit3 in zip(str1, str2, str3):\n",
    "        xor_result = int(bit1) ^ int(bit2) ^ int(bit3)\n",
    "        result += str(xor_result)\n",
    "    return result\n",
    "\n",
    "def __and__(str1, str2):\n",
    "    result = \"\"\n",
    "    for bit1, bit2 in zip(str1, str2):\n",
    "        and_result = int(bit1) & int(bit2) \n",
    "        result += str(and_result)\n",
    "    return result\n",
    "\n",
    "def __not__(string):\n",
    "    result = \"\"\n",
    "    for bit in string:\n",
    "        not_result = int(not int(bit))\n",
    "        result += str(not_result)\n",
    "    return result"
   ]
  },
  {
   "cell_type": "code",
   "execution_count": 5,
   "id": "4c31e00e",
   "metadata": {},
   "outputs": [],
   "source": [
    "def mod_2_32(n):\n",
    "    answer = int(n,2)%(2**32)\n",
    "    answer = format(answer, '032b')\n",
    "    return answer"
   ]
  },
  {
   "cell_type": "markdown",
   "id": "4978953b",
   "metadata": {},
   "source": [
    "### Step 1 : Initialize the buffers"
   ]
  },
  {
   "cell_type": "code",
   "execution_count": 6,
   "id": "98a93475",
   "metadata": {},
   "outputs": [],
   "source": [
    "h0 = 0x6a09e667\n",
    "h1 = 0xbb67ae85\n",
    "h2 = 0x3c6ef372\n",
    "h3 = 0xa54ff53a\n",
    "h4 = 0x510e527f\n",
    "h5 = 0x9b05688c\n",
    "h6 = 0x1f83d9ab\n",
    "h7 = 0x5be0cd19"
   ]
  },
  {
   "cell_type": "code",
   "execution_count": 7,
   "id": "493d408c",
   "metadata": {},
   "outputs": [],
   "source": [
    "buffers=[h0,h1,h2,h3,h4,h5,h6,h7]\n",
    "bin_buffers=[]\n",
    "for i in buffers:\n",
    "    i = bin(i)\n",
    "    i = i[2:].zfill(32)\n",
    "    bin_buffers.append(i)"
   ]
  },
  {
   "cell_type": "code",
   "execution_count": 8,
   "id": "8d40326f",
   "metadata": {},
   "outputs": [],
   "source": [
    "h0,h1,h2,h3,h4,h5,h6,h7 = bin_buffers"
   ]
  },
  {
   "cell_type": "markdown",
   "id": "9e7cd538",
   "metadata": {},
   "source": [
    "### Step 2 : Create 64 constants\n",
    "They are the factional parts of the cube roots of the first 64 primes"
   ]
  },
  {
   "cell_type": "code",
   "execution_count": 9,
   "id": "9f1ef8e9",
   "metadata": {},
   "outputs": [],
   "source": [
    "k = [\n",
    "   0x428a2f98, 0x71374491, 0xb5c0fbcf, 0xe9b5dba5, 0x3956c25b, 0x59f111f1, 0x923f82a4, 0xab1c5ed5,\n",
    "   0xd807aa98, 0x12835b01, 0x243185be, 0x550c7dc3, 0x72be5d74, 0x80deb1fe, 0x9bdc06a7, 0xc19bf174,\n",
    "   0xe49b69c1, 0xefbe4786, 0x0fc19dc6, 0x240ca1cc, 0x2de92c6f, 0x4a7484aa, 0x5cb0a9dc, 0x76f988da,\n",
    "   0x983e5152, 0xa831c66d, 0xb00327c8, 0xbf597fc7, 0xc6e00bf3, 0xd5a79147, 0x06ca6351, 0x14292967,\n",
    "   0x27b70a85, 0x2e1b2138, 0x4d2c6dfc, 0x53380d13, 0x650a7354, 0x766a0abb, 0x81c2c92e, 0x92722c85,\n",
    "   0xa2bfe8a1, 0xa81a664b, 0xc24b8b70, 0xc76c51a3, 0xd192e819, 0xd6990624, 0xf40e3585, 0x106aa070,\n",
    "   0x19a4c116, 0x1e376c08, 0x2748774c, 0x34b0bcb5, 0x391c0cb3, 0x4ed8aa4a, 0x5b9cca4f, 0x682e6ff3,\n",
    "   0x748f82ee, 0x78a5636f, 0x84c87814, 0x8cc70208, 0x90befffa, 0xa4506ceb, 0xbef9a3f7, 0xc67178f2]"
   ]
  },
  {
   "cell_type": "code",
   "execution_count": 10,
   "id": "6e1267d9",
   "metadata": {},
   "outputs": [
    {
     "name": "stdout",
     "output_type": "stream",
     "text": [
      "64\n"
     ]
    }
   ],
   "source": [
    "k1=[]\n",
    "for i in k:\n",
    "    i = bin(i)\n",
    "    i = i[2:].zfill(32)\n",
    "    k1.append(i)\n",
    "print(len(k1))"
   ]
  },
  {
   "cell_type": "markdown",
   "id": "865b0af6",
   "metadata": {},
   "source": [
    "### Step 3 : Enter input to be hashed"
   ]
  },
  {
   "cell_type": "code",
   "execution_count": 11,
   "id": "f486836b",
   "metadata": {},
   "outputs": [
    {
     "name": "stdout",
     "output_type": "stream",
     "text": [
      "Enter word : hello, World!\n"
     ]
    }
   ],
   "source": [
    "hash_input = input(\"Enter word : \")"
   ]
  },
  {
   "cell_type": "markdown",
   "id": "5df9c6cb",
   "metadata": {},
   "source": [
    "### Step 4 : Convert hash input to its binary form"
   ]
  },
  {
   "cell_type": "code",
   "execution_count": 12,
   "id": "0cf6e594",
   "metadata": {},
   "outputs": [],
   "source": [
    "def decimalToBinary(n, num_bits=32): \n",
    "    return bin(n).replace(\"0b\", \"\") \n",
    "\n",
    "def chr_to_ascii(n):\n",
    "    string=''\n",
    "    for i in n:\n",
    "        ascii_char = ord(i)\n",
    "        binary = decimalToBinary(ascii_char)\n",
    "        \n",
    "        if len(binary)<8:\n",
    "            while len(binary)<8:\n",
    "                binary = '0'+ binary\n",
    "        string += binary\n",
    "    return string\n",
    "        \n",
    "binary_hash = chr_to_ascii(hash_input)"
   ]
  },
  {
   "cell_type": "code",
   "execution_count": 13,
   "id": "da7812b0",
   "metadata": {},
   "outputs": [
    {
     "name": "stdout",
     "output_type": "stream",
     "text": [
      "01101000\n",
      "01100101\n",
      "01101100\n",
      "01101100\n",
      "01101111\n",
      "00101100\n",
      "00100000\n",
      "01010111\n",
      "01101111\n",
      "01110010\n",
      "01101100\n",
      "01100100\n",
      "00100001\n"
     ]
    }
   ],
   "source": [
    "for i in range(0,len(binary_hash),8):\n",
    "    print(binary_hash[i:i+8])"
   ]
  },
  {
   "cell_type": "markdown",
   "id": "38a599a5",
   "metadata": {},
   "source": [
    "### Step 5 : Add Padding Bits\n",
    "Total bits must be 64 bit short of any multiple of 512 </br>\n",
    "First bit added is '1' and the rest are all zeroes"
   ]
  },
  {
   "cell_type": "code",
   "execution_count": 14,
   "id": "1f06b77e",
   "metadata": {},
   "outputs": [],
   "source": [
    "def closest_multiple_of_512(number):\n",
    "    answer = round(number / 512) * 512\n",
    "    if answer==0:\n",
    "        return 512\n",
    "    else :\n",
    "        return answer"
   ]
  },
  {
   "cell_type": "code",
   "execution_count": 15,
   "id": "8e4a037a",
   "metadata": {},
   "outputs": [
    {
     "name": "stdout",
     "output_type": "stream",
     "text": [
      "Closest multiple of 512 to 104 is: 512\n",
      "64 bits from multiple of 512 :  448\n"
     ]
    }
   ],
   "source": [
    "len_hash_input = len(binary_hash)\n",
    "closest = closest_multiple_of_512(len_hash_input)\n",
    "print(\"Closest multiple of 512 to\", len_hash_input, \"is:\", closest)\n",
    "remaining = closest - 64 \n",
    "print(\"64 bits from multiple of 512 : \",remaining)"
   ]
  },
  {
   "cell_type": "code",
   "execution_count": 16,
   "id": "7d45e19a",
   "metadata": {},
   "outputs": [
    {
     "name": "stdout",
     "output_type": "stream",
     "text": [
      "011010000110010101101100011011000110111100101100001000000101011101101111011100100110110001100100001000011\n",
      "343\n",
      "448\n"
     ]
    }
   ],
   "source": [
    "binary_hash += '1'\n",
    "print(binary_hash)\n",
    "remaining = remaining - len(binary_hash)\n",
    "print(remaining)\n",
    "\n",
    "for i in range(remaining):\n",
    "    binary_hash += '0'\n",
    "print(len(binary_hash))"
   ]
  },
  {
   "cell_type": "code",
   "execution_count": 17,
   "id": "feb3ed80",
   "metadata": {},
   "outputs": [
    {
     "name": "stdout",
     "output_type": "stream",
     "text": [
      "0110100001100101011011000110110001101111001011000010000001010111\n",
      "0110111101110010011011000110010000100001100000000000000000000000\n",
      "0000000000000000000000000000000000000000000000000000000000000000\n",
      "0000000000000000000000000000000000000000000000000000000000000000\n",
      "0000000000000000000000000000000000000000000000000000000000000000\n",
      "0000000000000000000000000000000000000000000000000000000000000000\n",
      "0000000000000000000000000000000000000000000000000000000000000000\n"
     ]
    }
   ],
   "source": [
    "for i in range(0, len(binary_hash), 64):\n",
    "    print(binary_hash[i:i+64])"
   ]
  },
  {
   "cell_type": "markdown",
   "id": "04959157",
   "metadata": {},
   "source": [
    "### Step 6:  Add Padding Length\n",
    "Append 64 bits to the end, where the 64 bits are a big-endian integer </br>\n",
    "representing the length of the original input in binary."
   ]
  },
  {
   "cell_type": "code",
   "execution_count": 18,
   "id": "55d52aee",
   "metadata": {},
   "outputs": [
    {
     "name": "stdout",
     "output_type": "stream",
     "text": [
      "104\n"
     ]
    }
   ],
   "source": [
    "original_binary_length = len(hash_input) * 8\n",
    "print(original_binary_length)"
   ]
  },
  {
   "cell_type": "code",
   "execution_count": 19,
   "id": "5aeac4b9",
   "metadata": {},
   "outputs": [
    {
     "name": "stdout",
     "output_type": "stream",
     "text": [
      "512\n"
     ]
    }
   ],
   "source": [
    "#Find the binary equivalent of original input length (binary one)\n",
    "big_endian = decimalToBinary(original_binary_length)\n",
    "while len(big_endian)<64:\n",
    "    big_endian = '0'+ big_endian\n",
    "binary_hash += big_endian\n",
    "print(len(binary_hash))"
   ]
  },
  {
   "cell_type": "code",
   "execution_count": 20,
   "id": "bb480ee7",
   "metadata": {},
   "outputs": [
    {
     "name": "stdout",
     "output_type": "stream",
     "text": [
      "0110100001100101011011000110110001101111001011000010000001010111\n",
      "0110111101110010011011000110010000100001100000000000000000000000\n",
      "0000000000000000000000000000000000000000000000000000000000000000\n",
      "0000000000000000000000000000000000000000000000000000000000000000\n",
      "0000000000000000000000000000000000000000000000000000000000000000\n",
      "0000000000000000000000000000000000000000000000000000000000000000\n",
      "0000000000000000000000000000000000000000000000000000000000000000\n",
      "0000000000000000000000000000000000000000000000000000000001101000\n"
     ]
    }
   ],
   "source": [
    "for i in range(0, len(binary_hash), 64):\n",
    "    print(binary_hash[i:i+64])"
   ]
  },
  {
   "cell_type": "markdown",
   "id": "f1730ae6",
   "metadata": {},
   "source": [
    "### Step 7: Create an 64 entry-message schedule array of 32-bit words for every 512-bit chunks, followed by compression to mutate a-h and h0-h7"
   ]
  },
  {
   "cell_type": "markdown",
   "id": "50a839cf",
   "metadata": {},
   "source": [
    "w = 64-entry message schedule array </br>\n",
    "\n",
    "Process the message in successive 512-bit chunks: </br>\n",
    "break message into 512-bit chunks </br>\n",
    "for each chunk </br>\n",
    "    create a 64-entry message schedule array w[0..63] of 32-bit words </br>\n",
    "    (The initial values in w[0..63] don't matter, so many implementations zero them here) </br>\n",
    "    copy chunk into first 16 words w[0..15] of the message schedule array </br>\n",
    "\n",
    "    Extend the first 16 words into the remaining 48 words w[16..63] of the message schedule array: </br>\n",
    "    for i from 16 to 63 </br>\n",
    "        s0 := (w[i-15] rr  7) xor (w[i-15] rr 18) xor (w[i-15] rs  3) </br>\n",
    "        s1 := (w[i-2] rr 17) xor (w[i-2] rr 19) xor (w[i-2] rs 10) </br>\n",
    "        w[i] := w[i-16] + s0 + w[i-7] + s1 </br>\n",
    "\n",
    "    Initialize working variables to current hash value: </br>\n",
    "    a,b,c,d,e,f,g,h = h0,h1,h2,h3,h4,h5,h6,h7 </br>\n",
    "\n",
    "    Compression function main loop: </br>\n",
    "    for i from 0 to 63 </br>\n",
    "        S1 := (e rr 6) xor (e rr 11) xor (e rr 25) </br>\n",
    "        ch := (e and f) xor ((not e) and g) </br>\n",
    "        temp1 := h + S1 + ch + k[i] + w[i]</br>\n",
    "        S0 := (a rr 2) xor (a rr 13) xor (a rr 22) </br>\n",
    "        maj := (a and b) xor (a and c) xor (b and c) </br>\n",
    "        temp2 := S0 + maj </br>\n",
    " \n",
    "        h := g </br>\n",
    "        g := f </br>\n",
    "        f := e </br>\n",
    "        e := d + temp1 </br>\n",
    "        d := c </br>\n",
    "        c := b </br>\n",
    "        b := a </br>\n",
    "        a := temp1 + temp2 </br>"
   ]
  },
  {
   "cell_type": "code",
   "execution_count": 21,
   "id": "eb92a27f",
   "metadata": {},
   "outputs": [],
   "source": [
    "for i in range(0,len(binary_hash),512):\n",
    "    w = []\n",
    "    for j in range(0,len(binary_hash),32):\n",
    "        w.append(binary_hash[j:j+32])\n",
    "\n",
    "    left = 64 - len(w)\n",
    "    for k in range(left):\n",
    "        w.append(\"0\"*32)\n",
    "\n",
    "    for m in range(16, 64):\n",
    "        s_0  = __xor__(right_rotate( w[m-15], 7), right_rotate(w[m-15],18), right_shift( w[m-15],3)) \n",
    "        s_1  = __xor__(right_rotate( w[m-2], 17), right_rotate(w[m-2], 19), right_shift(w[m-2], 10))  \n",
    "        w[m] = mod_2_32(__add__(w[m-16], s_0, w[m-7], s_1))\n",
    "   \n",
    "    a,b,c,d,e,f,g,h = h0,h1,h2,h3,h4,h5,h6,h7\n",
    "\n",
    "    for p in range(64):\n",
    "        s1 = __xor__(right_rotate(e,6), right_rotate(e,11), right_rotate(e,25))\n",
    "        \n",
    "        e_and_f = __and__(e, f)\n",
    "        not_e = __not__(e)\n",
    "        not_e_and_g = __and__(not_e, g)\n",
    "        ch = __xor__(e_and_f, not_e_and_g)\n",
    "\n",
    "        temp1 = mod_2_32(__add__(h,s1,ch, k1[p], w[p]))\n",
    "        s0 = __xor__(right_rotate(a,2), right_rotate(a,13), right_rotate(a,22))\n",
    "\n",
    "        a_and_b = __and__(a, b)\n",
    "        a_and_c = __and__(a, c)\n",
    "        b_and_c = __and__(b, c)\n",
    "        maj = __xor__(a_and_b, a_and_c, b_and_c)\n",
    "\n",
    "        temp2 = mod_2_32(__add__( s0,maj ))\n",
    "        h = g\n",
    "        g = f\n",
    "        f = e\n",
    "        e = mod_2_32(__add__( d,temp1 ))\n",
    "        d = c\n",
    "        c = b\n",
    "        b = a\n",
    "        a = mod_2_32(__add__( temp1,temp2 ))\n",
    "\n",
    "    h0 = mod_2_32(__add__( h0,a ))\n",
    "    h1 = mod_2_32(__add__( h1,b ))\n",
    "    h2 = mod_2_32(__add__( h2,c ))\n",
    "    h3 = mod_2_32(__add__( h3,d ))\n",
    "    h4 = mod_2_32(__add__( h4,e ))\n",
    "    h5 = mod_2_32(__add__( h5,f ))\n",
    "    h6 = mod_2_32(__add__( h6,g ))\n",
    "    h7 = mod_2_32(__add__( h7,h ))"
   ]
  },
  {
   "cell_type": "code",
   "execution_count": 22,
   "id": "1ddfe5e7",
   "metadata": {},
   "outputs": [
    {
     "name": "stdout",
     "output_type": "stream",
     "text": [
      "4aa5d2533987c34839e8dbc8d8fcac86f0137e31c1c6ea4349ade4fcaf87ed8\n"
     ]
    }
   ],
   "source": [
    "digest2 = h0+h1+h2+h3+h4+h5+h6+h7\n",
    "print(format(int(digest2, 2), 'x'))"
   ]
  }
 ],
 "metadata": {
  "kernelspec": {
   "display_name": "Python 3 (ipykernel)",
   "language": "python",
   "name": "python3"
  },
  "language_info": {
   "codemirror_mode": {
    "name": "ipython",
    "version": 3
   },
   "file_extension": ".py",
   "mimetype": "text/x-python",
   "name": "python",
   "nbconvert_exporter": "python",
   "pygments_lexer": "ipython3",
   "version": "3.10.9"
  }
 },
 "nbformat": 4,
 "nbformat_minor": 5
}
